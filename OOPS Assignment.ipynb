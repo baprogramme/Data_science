{
 "cells": [
  {
   "cell_type": "markdown",
   "id": "7b64c62f-b0b7-45fb-bc19-102d03a6bddb",
   "metadata": {},
   "source": [
    "Q1. Explain Class and Object with respect to Object-Oriented Programming. Give a suitable example."
   ]
  },
  {
   "cell_type": "markdown",
   "id": "19e554f5-a1c7-4d38-b331-e9c4ccdf7852",
   "metadata": {},
   "source": [
    "A class is a blueprint of objects.suppose Class can be defined as a sketch (prototype) of a house which contains all the details about the floors, doors, windows, etc here House is the object."
   ]
  },
  {
   "cell_type": "markdown",
   "id": "2e9c74d3-7cde-4432-b4d9-05959ffd7c17",
   "metadata": {},
   "source": [
    "eg. "
   ]
  },
  {
   "cell_type": "code",
   "execution_count": 1,
   "id": "bb26fb61-786b-49fb-a109-1a35a5eed2a9",
   "metadata": {},
   "outputs": [],
   "source": [
    "class pwskills1:\n",
    "    def __init__(self,phone_number,email_id,student_id):\n",
    "            self.phone_number=phone_number\n",
    "            self.email_id=email_id\n",
    "            self.student_id=student_id\n",
    "            \n",
    "    def return_student_detail(self):\n",
    "        return self.phone_number,self.email_id,self.student_id\n",
    "   \n",
    "        "
   ]
  },
  {
   "cell_type": "markdown",
   "id": "b59d658b-581e-45ae-bd27-134e4d8a1617",
   "metadata": {},
   "source": [
    "here pwskills1 is a class and phone_number,email_id,student_id are the variables of that class."
   ]
  },
  {
   "cell_type": "code",
   "execution_count": 2,
   "id": "bec8cbf6-c880-47f6-b4a4-f1034a738757",
   "metadata": {},
   "outputs": [],
   "source": [
    "rohan = pwskills1(95435665,\"rohan@gmail.com\",101)"
   ]
  },
  {
   "cell_type": "code",
   "execution_count": 3,
   "id": "728889b1-1058-4363-bee5-e48db0845345",
   "metadata": {},
   "outputs": [
    {
     "data": {
      "text/plain": [
       "(95435665, 'rohan@gmail.com', 101)"
      ]
     },
     "execution_count": 3,
     "metadata": {},
     "output_type": "execute_result"
    }
   ],
   "source": [
    "rohan.return_student_detail()"
   ]
  },
  {
   "cell_type": "markdown",
   "id": "b7a15738-1bea-474a-8680-6098721aa1ea",
   "metadata": {},
   "source": [
    "Here rohan is the object of that class having details phone_number,email_id,student_id "
   ]
  },
  {
   "cell_type": "markdown",
   "id": "b3ad4ca2-ddc7-44e2-865c-c623443fec69",
   "metadata": {},
   "source": [
    "Q2. Name the four pillars of OOPS."
   ]
  },
  {
   "cell_type": "markdown",
   "id": "2d8be2d9-3521-4cf1-808a-a8e6e5abead3",
   "metadata": {},
   "source": [
    " Inheritance, Polymorphism, Encapsulation and Abstraction."
   ]
  },
  {
   "cell_type": "markdown",
   "id": "225a4c0b-a4e4-4bd1-a439-438c6ee4a74e",
   "metadata": {},
   "source": [
    "Q3. Explain why the __init__() function is used. Give a suitable example."
   ]
  },
  {
   "cell_type": "markdown",
   "id": "95d08a73-2056-4fc5-a96f-3f64b2f120e6",
   "metadata": {},
   "source": [
    "The __init__() function is called automatically every time the class is being used to create a new object"
   ]
  },
  {
   "cell_type": "code",
   "execution_count": 5,
   "id": "50629d59-a67d-438c-a646-b24a683ca952",
   "metadata": {},
   "outputs": [],
   "source": [
    "class pwskills1:\n",
    "    def __init__(self,phone_number,email_id,student_id):\n",
    "            self.phone_number=phone_number\n",
    "            self.email_id=email_id\n",
    "            self.student_id=student_id\n",
    "            \n",
    "    def return_student_detail(self):\n",
    "        return self.phone_number,self.email_id,self.student_id\n",
    "\n",
    "            \n",
    "rohan = pwskills1(95435665,\"rohan@gmail.com\",101)"
   ]
  },
  {
   "cell_type": "code",
   "execution_count": 6,
   "id": "31569f05-9668-45ea-92a2-3432b2acac03",
   "metadata": {},
   "outputs": [
    {
     "data": {
      "text/plain": [
       "(95435665, 'rohan@gmail.com', 101)"
      ]
     },
     "execution_count": 6,
     "metadata": {},
     "output_type": "execute_result"
    }
   ],
   "source": [
    "rohan.return_student_detail()"
   ]
  },
  {
   "cell_type": "markdown",
   "id": "ee76a9ab-85fe-4f3a-8d72-f26117df25a1",
   "metadata": {},
   "source": [
    "Q4. Why self is used in OOPS?"
   ]
  },
  {
   "cell_type": "markdown",
   "id": "bc51a593-edb9-47d1-9bbc-13c1cb272306",
   "metadata": {},
   "source": [
    "The self variable is used to represent the instance of the class. It works as a reference to the object."
   ]
  },
  {
   "cell_type": "markdown",
   "id": "f2325800-e948-412e-8156-8e81d00fce12",
   "metadata": {},
   "source": [
    "Q5. What is the inheritance ? Give an example for each type of inheritance."
   ]
  },
  {
   "cell_type": "markdown",
   "id": "d27b6f1c-e3a8-4092-8a81-38dd4d9b0370",
   "metadata": {},
   "source": [
    "Inheritance is the capacity of a particular class to obtain or inherit properties from another class and then use them when required."
   ]
  },
  {
   "cell_type": "markdown",
   "id": "52c4ea65-892c-471a-9538-bbbb6e1ed677",
   "metadata": {},
   "source": [
    "Single Inheritance "
   ]
  },
  {
   "cell_type": "code",
   "execution_count": 8,
   "id": "1fa6c0d6-c7fa-45cc-a915-3151e508726a",
   "metadata": {},
   "outputs": [],
   "source": [
    "class Parent1:  \n",
    "    def func_1(self):  \n",
    "        print (\"This function is defined inside the parent class.\")  \n",
    "\n",
    "\n",
    "class Child1(Parent1):\n",
    "    def func_2(self):\n",
    "        print (\"This function is defined inside the child class.\") \n",
    "        \n",
    "    \n",
    " "
   ]
  },
  {
   "cell_type": "code",
   "execution_count": 9,
   "id": "03da1cfc-b1ae-44fa-8089-12df1a159368",
   "metadata": {},
   "outputs": [
    {
     "name": "stdout",
     "output_type": "stream",
     "text": [
      "This function is defined inside the parent class.\n",
      "This function is defined inside the child class.\n"
     ]
    }
   ],
   "source": [
    "object = Child1()  \n",
    "object.func_1()  \n",
    "object.func_2()  "
   ]
  },
  {
   "cell_type": "markdown",
   "id": "49870ca4-6c84-4125-af35-0062a437968b",
   "metadata": {},
   "source": [
    "Multiple Inheritance"
   ]
  },
  {
   "cell_type": "code",
   "execution_count": 10,
   "id": "f2ac9c8c-acdd-44c9-a6cf-44db7a6e947c",
   "metadata": {},
   "outputs": [],
   "source": [
    "class Mother1:  \n",
    "    mothername1 = \"\"  \n",
    "    def mother1(self):  \n",
    "        print(self.mothername1)  \n",
    "        \n",
    "\n",
    "        \n",
    "        \n",
    "class Father1:  \n",
    "    fathername1 = \"\"  \n",
    "    def father1(self):  \n",
    "        print(self.fathername1)\n",
    "        \n",
    "        \n",
    "        \n",
    "class Son1(Mother1, Father1):  \n",
    "    def parents1(self):  \n",
    "        print (\"Father name is :\", self.fathername1)  \n",
    "        print (\"Mother name is :\", self.mothername1)  \n"
   ]
  },
  {
   "cell_type": "code",
   "execution_count": 11,
   "id": "96470c13-3fda-4f79-af47-4ee481c70d87",
   "metadata": {},
   "outputs": [
    {
     "name": "stdout",
     "output_type": "stream",
     "text": [
      "Father name is : Rajesh\n",
      "Mother name is : Shreya\n"
     ]
    }
   ],
   "source": [
    "s1 = Son1()  \n",
    "s1.fathername1 = \"Rajesh\"  \n",
    "s1.mothername1 = \"Shreya\"  \n",
    "s1.parents1()  "
   ]
  },
  {
   "cell_type": "markdown",
   "id": "3074413b-b340-4ae6-be10-f6ae44672383",
   "metadata": {},
   "source": [
    "Multilevel inheritance"
   ]
  },
  {
   "cell_type": "code",
   "execution_count": 25,
   "id": "e7be7063-5c74-4e76-a244-6a08699f5839",
   "metadata": {},
   "outputs": [
    {
     "name": "stdout",
     "output_type": "stream",
     "text": [
      "John Jr Jr\n",
      "Grandfather name is : John Jr Jr\n",
      "Father name is : John Jr\n",
      "Son name is : John\n"
     ]
    }
   ],
   "source": [
    "class Grandfather1:  \n",
    "  \n",
    "    def __init__(self, grandfathername1):  \n",
    "        self.grandfathername1 = grandfathername1  \n",
    "  \n",
    " \n",
    "class Father1(Grandfather1):  \n",
    "    def __init__(self, fathername1, grandfathername1):  \n",
    "        self.fathername1 = fathername1  \n",
    "  \n",
    "         \n",
    "        Grandfather1.__init__(self, grandfathername1)  \n",
    "  \n",
    "\n",
    "class Son1(Father1):  \n",
    "    def __init__(self,sonname1, fathername1, grandfathername1):  \n",
    "        self.sonname1 = sonname1  \n",
    "  \n",
    "        \n",
    "        Father1.__init__(self, fathername1, grandfathername1)  \n",
    "  \n",
    "    def print_name(self):  \n",
    "        print('Grandfather name is :', self.grandfathername1)  \n",
    "        print(\"Father name is :\", self.fathername1)  \n",
    "        print(\"Son name is :\", self.sonname1)  \n",
    "  \n",
    " \n",
    "s1 = Son1('John', 'John Jr', 'John Jr Jr')  \n",
    "print (s1.grandfathername1)  \n",
    "s1.print_name()  "
   ]
  },
  {
   "cell_type": "markdown",
   "id": "8ba41908-90cc-4465-8eae-07664f738f6e",
   "metadata": {},
   "source": [
    "Hierarchical Inheritance"
   ]
  },
  {
   "cell_type": "code",
   "execution_count": 19,
   "id": "bd710c56-133d-424b-8a3a-5af5676a31ce",
   "metadata": {},
   "outputs": [
    {
     "name": "stdout",
     "output_type": "stream",
     "text": [
      "This function is defined inside the parent class.\n",
      "This function is defined inside the child 1.\n",
      "This function is defined inside the parent class.\n",
      "This function is defined inside the child 2.\n"
     ]
    }
   ],
   "source": [
    "class Parent1:  \n",
    "    def func_1(self):  \n",
    "        print (\"This function is defined inside the parent class.\")\n",
    "        \n",
    "\n",
    "  \n",
    "class Child_1(Parent1):  \n",
    "    def func_2(self):  \n",
    "        print (\"This function is defined inside the child 1.\")  \n",
    "  \n",
    " \n",
    "class Child_2(Parent1):  \n",
    "    def func_3(self):  \n",
    "        print (\"This function is defined inside the child 2.\")  \n",
    "  \n",
    " \n",
    "object1 = Child_1()  \n",
    "object2 = Child_2()  \n",
    "object1.func_1()  \n",
    "object1.func_2()  \n",
    "object2.func_1()  \n",
    "object2.func_3()  "
   ]
  }
 ],
 "metadata": {
  "kernelspec": {
   "display_name": "Python 3 (ipykernel)",
   "language": "python",
   "name": "python3"
  },
  "language_info": {
   "codemirror_mode": {
    "name": "ipython",
    "version": 3
   },
   "file_extension": ".py",
   "mimetype": "text/x-python",
   "name": "python",
   "nbconvert_exporter": "python",
   "pygments_lexer": "ipython3",
   "version": "3.10.8"
  }
 },
 "nbformat": 4,
 "nbformat_minor": 5
}
