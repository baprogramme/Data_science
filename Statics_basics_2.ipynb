{
 "cells": [
  {
   "cell_type": "markdown",
   "id": "6677c09b-c288-4ac0-ad06-4e23b1299d81",
   "metadata": {},
   "source": [
    "Q1. What are the three measures of central tendency?"
   ]
  },
  {
   "cell_type": "markdown",
   "id": "9365fb29-2290-4f82-af15-d82d59766314",
   "metadata": {},
   "source": [
    "There are three main measures of central tendency:\n",
    "\n",
    "mode.\n",
    "median.\n",
    "mean."
   ]
  },
  {
   "cell_type": "markdown",
   "id": "e4e96a96-63a9-4139-90d4-b699b17e8de3",
   "metadata": {},
   "source": [
    "Q2. What is the difference between the mean, median, and mode? How are they used to measure the\n",
    "central tendency of a dataset?"
   ]
  },
  {
   "cell_type": "markdown",
   "id": "f4aa4c44-5292-447e-80e4-cfadb52a5190",
   "metadata": {},
   "source": [
    "The mean is the average where the sum of all the numbers is divided by the total number of numbers, whereas the median is the middle value in the list of given numbers numerically ordered from smallest to biggest and mode is the value of the number which occurs most often in the list."
   ]
  },
  {
   "cell_type": "markdown",
   "id": "d4537911-3287-4438-9b71-ec92683fdcf5",
   "metadata": {},
   "source": [
    "Q3. Measure the three measures of central tendency for the given height data:\n",
    "[178,177,176,177,178.2,178,175,179,180,175,178.9,176.2,177,172.5,178,176.5]"
   ]
  },
  {
   "cell_type": "code",
   "execution_count": 6,
   "id": "6487a4cd-8c43-41d9-9763-a96c8028b0bf",
   "metadata": {},
   "outputs": [
    {
     "data": {
      "text/plain": [
       "177.01875"
      ]
     },
     "execution_count": 6,
     "metadata": {},
     "output_type": "execute_result"
    }
   ],
   "source": [
    "# mean\n",
    "data= [178,177,176,177,178.2,178,175,179,180,175,178.9,176.2,177,172.5,178,176.5]\n",
    "import numpy as np\n",
    "np.mean(data)"
   ]
  },
  {
   "cell_type": "code",
   "execution_count": 7,
   "id": "e95d28b0-18cf-4cf5-afde-d536d8bad47e",
   "metadata": {},
   "outputs": [
    {
     "data": {
      "text/plain": [
       "177.0"
      ]
     },
     "execution_count": 7,
     "metadata": {},
     "output_type": "execute_result"
    }
   ],
   "source": [
    "# median\n",
    "np.median(data)"
   ]
  },
  {
   "cell_type": "code",
   "execution_count": 8,
   "id": "3089813d-1c52-4d4c-9632-1b5c7988a8dd",
   "metadata": {},
   "outputs": [
    {
     "name": "stderr",
     "output_type": "stream",
     "text": [
      "/tmp/ipykernel_103/2713263222.py:3: FutureWarning: Unlike other reduction functions (e.g. `skew`, `kurtosis`), the default behavior of `mode` typically preserves the axis it acts along. In SciPy 1.11.0, this behavior will change: the default value of `keepdims` will become False, the `axis` over which the statistic is taken will be eliminated, and the value None will no longer be accepted. Set `keepdims` to True or False to avoid this warning.\n",
      "  stats.mode(data)\n"
     ]
    },
    {
     "data": {
      "text/plain": [
       "ModeResult(mode=array([177.]), count=array([3]))"
      ]
     },
     "execution_count": 8,
     "metadata": {},
     "output_type": "execute_result"
    }
   ],
   "source": [
    "# mode\n",
    "from scipy import stats\n",
    "stats.mode(data)"
   ]
  },
  {
   "cell_type": "markdown",
   "id": "1288c1c5-6265-454b-a63c-d60416a65a45",
   "metadata": {},
   "source": [
    "Q4. Find the standard deviation for the given data:\n",
    "[178,177,176,177,178.2,178,175,179,180,175,178.9,176.2,177,172.5,178,176.5]"
   ]
  },
  {
   "cell_type": "code",
   "execution_count": 11,
   "id": "84ce91f0-963d-4deb-b52b-56aa64da4425",
   "metadata": {},
   "outputs": [
    {
     "data": {
      "text/plain": [
       "1.7885814036548633"
      ]
     },
     "execution_count": 11,
     "metadata": {},
     "output_type": "execute_result"
    }
   ],
   "source": [
    "data= [178,177,176,177,178.2,178,175,179,180,175,178.9,176.2,177,172.5,178,176.5]\n",
    "import numpy as np\n",
    "np.std(data)"
   ]
  },
  {
   "cell_type": "markdown",
   "id": "6059a325-04cd-47cd-a0cd-7fd97055f977",
   "metadata": {},
   "source": [
    "Q5. How are measures of dispersion such as range, variance, and standard deviation used to describe\n",
    "the spread of a dataset? Provide an example."
   ]
  },
  {
   "cell_type": "markdown",
   "id": "ef0c508c-df7a-4737-aa56-7f1e92f1bc26",
   "metadata": {},
   "source": [
    "Measures of dispersion describe the spread of the data. They include the range, interquartile range, standard deviation and variance. \n",
    "\n",
    "The range is given as the smallest and largest observations. This is the simplest measure of variability.\n",
    "\n",
    "The average squared deviation from the mean of the given data set is known as the variance. This measure of dispersion checks the spread of the data about the mean.\n",
    "\n",
    "Standard deviation: defined as a number representing how far from the average each score is. \n",
    "\n",
    "Eg. \n",
    "\n",
    "\n",
    "\n"
   ]
  },
  {
   "cell_type": "code",
   "execution_count": 12,
   "id": "5f15df69-68b1-4e69-8eba-b1e14fd61d43",
   "metadata": {},
   "outputs": [],
   "source": [
    "dataset= [1,2,3,4,5]\n",
    "import numpy as np"
   ]
  },
  {
   "cell_type": "code",
   "execution_count": 16,
   "id": "53b474cc-d39d-4963-bcf6-f3570ec853b9",
   "metadata": {},
   "outputs": [
    {
     "data": {
      "text/plain": [
       "2.0"
      ]
     },
     "execution_count": 16,
     "metadata": {},
     "output_type": "execute_result"
    }
   ],
   "source": [
    "#range \n",
    "(1,5)\n",
    "\n",
    "# variance\n",
    "np.var(dataset)"
   ]
  },
  {
   "cell_type": "code",
   "execution_count": 17,
   "id": "7c479c7e-0f13-4ac3-9980-db5187ee20f7",
   "metadata": {},
   "outputs": [
    {
     "data": {
      "text/plain": [
       "1.4142135623730951"
      ]
     },
     "execution_count": 17,
     "metadata": {},
     "output_type": "execute_result"
    }
   ],
   "source": [
    "# standard Deviation\n",
    "np.std(dataset)"
   ]
  },
  {
   "cell_type": "markdown",
   "id": "7e4ed03e-ab67-487e-8e32-5f836820baa3",
   "metadata": {},
   "source": [
    "Q6. What is a Venn diagram?"
   ]
  },
  {
   "cell_type": "markdown",
   "id": "a47af76e-fbb0-484a-a50c-bcaea1521e46",
   "metadata": {},
   "source": [
    "A Venn diagram is an illustration that uses circles to show the relationships among things or finite groups of things. Circles that overlap have a commonality while circles that do not overlap do not share those traits. Venn diagrams help to visually represent the similarities and differences between two concepts."
   ]
  },
  {
   "cell_type": "markdown",
   "id": "34905e2f-a36a-4839-9530-b0836e69431d",
   "metadata": {},
   "source": [
    "Q7. For the two given sets A = (2,3,4,5,6,7) & B = (0,2,6,8,10). Find:\n",
    "(i) A intesection B\n",
    "(ii) A ⋃ B"
   ]
  },
  {
   "cell_type": "markdown",
   "id": "ee9672d0-3860-416c-8d63-b6bea36f66af",
   "metadata": {},
   "source": [
    "(i) A intersection B = (2,6) (ii) A U B= (0,2,3,4,5,6,7,8,10)"
   ]
  },
  {
   "cell_type": "markdown",
   "id": "42b9183f-7970-4bce-a239-cabe2a7d1280",
   "metadata": {},
   "source": [
    "Q8. What do you understand about skewness in data?"
   ]
  },
  {
   "cell_type": "markdown",
   "id": "bd848cf9-0651-4f9f-a95c-190ead0fed6f",
   "metadata": {},
   "source": [
    " Skewness is a measurement of the distortion of symmetrical distribution or asymmetry in a data set. Skewness is demonstrated on a bell curve when data points are not distributed symmetrically to the left and right sides of the median on a bell curve."
   ]
  },
  {
   "cell_type": "markdown",
   "id": "fa1aec12-e17c-4a7e-bd10-f9ebd4848fa3",
   "metadata": {},
   "source": [
    "Q9. If a data is right skewed then what will be the position of median with respect to mean?"
   ]
  },
  {
   "cell_type": "markdown",
   "id": "b39aa630-9106-43db-b434-110c524c1fce",
   "metadata": {},
   "source": [
    "If the distribution of data is skewed to the right, the mode is often less than the median, which is less than the mean."
   ]
  },
  {
   "cell_type": "markdown",
   "id": "55e74f94-da49-49bd-81ad-e56ea9b70e51",
   "metadata": {},
   "source": [
    "Q10. Explain the difference between covariance and correlation. How are these measures used in\n",
    "statistical analysis?"
   ]
  },
  {
   "cell_type": "markdown",
   "id": "a2d0b930-9567-4607-8e7b-17afde701ed5",
   "metadata": {},
   "source": [
    "Covariance is an indicator of the extent to which 2 random variables are dependent on each other. A higher number denotes higher dependency. Correlation is a statistical measure that indicates how strongly two variables are related. The value of covariance lies in the range of -∞ and +∞."
   ]
  },
  {
   "cell_type": "markdown",
   "id": "954c0a08-493e-4047-9b1e-b62a95af19b5",
   "metadata": {},
   "source": [
    "Q11. What is the formula for calculating the sample mean? Provide an example calculation for a\n",
    "dataset."
   ]
  },
  {
   "cell_type": "markdown",
   "id": "ce31f87d-15e7-43a7-93c9-08417b4fa0a8",
   "metadata": {},
   "source": [
    "The general formula for calculating the sample mean is given by x̄ = ( Σ xi ) / n. Here, x̄ represents the sample mean, xi refers all X sample values and n stands for the number of sample terms in the data set."
   ]
  },
  {
   "cell_type": "markdown",
   "id": "40f18536-928e-434c-a0fa-e3fa18750ef4",
   "metadata": {},
   "source": [
    "eg. dataset= [1,2,3,4,5]"
   ]
  },
  {
   "cell_type": "markdown",
   "id": "402109dd-57ac-4a4c-b62e-9725db7beb1f",
   "metadata": {},
   "source": [
    " x̄= (1+2+3+4+5)/5"
   ]
  },
  {
   "cell_type": "markdown",
   "id": "2e653dbd-d585-4499-bad3-02e0be73ccdc",
   "metadata": {},
   "source": [
    "(mean) x̄= 3"
   ]
  },
  {
   "cell_type": "markdown",
   "id": "70e82f45-9ca0-4669-b72a-ee691b84fd8d",
   "metadata": {},
   "source": [
    "Q12. For a normal distribution data what is the relationship between its measure of central tendency?"
   ]
  },
  {
   "cell_type": "markdown",
   "id": "6480bb77-41fe-40a4-bfdb-e67e25a03858",
   "metadata": {},
   "source": [
    "Any normal distribution has a graph that is perfectly symmetric about a vertical line through its peak. Therefore, all measures of central tendency (most commonly, the mean, median, and mode are equal) give the same answer"
   ]
  },
  {
   "cell_type": "markdown",
   "id": "031f392c-5d94-4c23-9e2c-74231d796d9a",
   "metadata": {},
   "source": [
    "Q13. How is covariance different from correlation?"
   ]
  },
  {
   "cell_type": "markdown",
   "id": "a728d93a-912b-4afd-af68-70b8816b50cf",
   "metadata": {},
   "source": [
    "Covariance shows you how the two variables differ, whereas correlation shows you how the two variables are related. "
   ]
  },
  {
   "cell_type": "markdown",
   "id": "df5a27e3-c125-4856-b5ba-f493bf67cec7",
   "metadata": {},
   "source": [
    "Q14. How do outliers affect measures of central tendency and dispersion? Provide an example."
   ]
  },
  {
   "cell_type": "markdown",
   "id": "de04e955-6ac6-4be3-996b-9a7099e4ef1a",
   "metadata": {},
   "source": [
    "When a outlier is present it can effect the shape of the graph, if we have outliers to the right of the graph. These outliers are causing the mean to increase, but if we have outliers to the left of the graph these outliers are dragging down the mean. This causes a conflict because the mean no longer provides a good representation of the data, alternatively we would much rather use the median."
   ]
  },
  {
   "cell_type": "code",
   "execution_count": null,
   "id": "b77f2fa2-9362-4467-8baa-d11c0b16da18",
   "metadata": {},
   "outputs": [],
   "source": []
  }
 ],
 "metadata": {
  "kernelspec": {
   "display_name": "Python 3 (ipykernel)",
   "language": "python",
   "name": "python3"
  },
  "language_info": {
   "codemirror_mode": {
    "name": "ipython",
    "version": 3
   },
   "file_extension": ".py",
   "mimetype": "text/x-python",
   "name": "python",
   "nbconvert_exporter": "python",
   "pygments_lexer": "ipython3",
   "version": "3.10.8"
  }
 },
 "nbformat": 4,
 "nbformat_minor": 5
}
