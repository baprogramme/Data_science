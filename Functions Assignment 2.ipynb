{
 "cells": [
  {
   "cell_type": "markdown",
   "id": "484e1431-2b02-4af8-a5f5-a66b19af2c19",
   "metadata": {},
   "source": [
    "Q1. Create a python program to sort the given list of tuples based on integer value using a lambda function."
   ]
  },
  {
   "cell_type": "code",
   "execution_count": 17,
   "id": "0937131a-622a-49bf-8a37-7dee8e672332",
   "metadata": {},
   "outputs": [],
   "source": [
    "l1=[('sachin Tendulkar',34357),('Ricky Ponting',27483),('Jack Kallis',25534),('Virat Kohli',24936)]"
   ]
  },
  {
   "cell_type": "code",
   "execution_count": 20,
   "id": "5f89ddf5-2008-464e-b742-99bcd590acaa",
   "metadata": {},
   "outputs": [
    {
     "name": "stdout",
     "output_type": "stream",
     "text": [
      "[('Virat Kohli', 24936), ('Jack Kallis', 25534), ('Ricky Ponting', 27483), ('sachin Tendulkar', 34357)]\n"
     ]
    }
   ],
   "source": [
    "l1.sort(key = lambda x: x[1])\n",
    "print(l1)"
   ]
  },
  {
   "cell_type": "markdown",
   "id": "9bfddefe-6c9c-496e-a6a4-05e5bd32603f",
   "metadata": {},
   "source": [
    "Q2. Write a Python Program to find the squares of all the numbers in the given list of integers using lambda and map functions."
   ]
  },
  {
   "cell_type": "code",
   "execution_count": 6,
   "id": "70f2dd73-d577-4c83-9b01-ef48583c4dd5",
   "metadata": {},
   "outputs": [],
   "source": [
    "l2=[1,2,3,4,5,6,7,8,9,10]"
   ]
  },
  {
   "cell_type": "code",
   "execution_count": 12,
   "id": "86d31de0-7d75-4f75-ba84-4afbbf785064",
   "metadata": {},
   "outputs": [
    {
     "data": {
      "text/plain": [
       "[1, 4, 9, 16, 25, 36, 49, 64, 81, 100]"
      ]
     },
     "execution_count": 12,
     "metadata": {},
     "output_type": "execute_result"
    }
   ],
   "source": [
    "list(map(lambda x:x**2,l2))"
   ]
  },
  {
   "cell_type": "markdown",
   "id": "79820921-3ef5-41d4-8bf9-e941100785b9",
   "metadata": {},
   "source": [
    "Q3. Write a python program to convert the given list of integers into a tuple of strings. Use map and lambda functions."
   ]
  },
  {
   "cell_type": "markdown",
   "id": "8de013ef-fd66-4690-9c58-589a19f7a1c2",
   "metadata": {},
   "source": [
    "Given string:"
   ]
  },
  {
   "cell_type": "code",
   "execution_count": 13,
   "id": "8258d264-1474-43a0-950c-2df5b34f4fb7",
   "metadata": {},
   "outputs": [],
   "source": [
    "l3=[1,2,3,4,5,6,7,8,9,10]"
   ]
  },
  {
   "cell_type": "markdown",
   "id": "e0dd92ac-459e-42d3-93f2-f3b176d0b428",
   "metadata": {},
   "source": [
    "Expected output:"
   ]
  },
  {
   "cell_type": "code",
   "execution_count": 14,
   "id": "4aa82a25-04e6-4413-b90d-53fa04360448",
   "metadata": {},
   "outputs": [
    {
     "data": {
      "text/plain": [
       "('1', '2', '3', '4', '5', '6', '7', '8', '9', '10')"
      ]
     },
     "execution_count": 14,
     "metadata": {},
     "output_type": "execute_result"
    }
   ],
   "source": [
    "('1','2','3','4','5','6','7','8','9','10')"
   ]
  },
  {
   "cell_type": "code",
   "execution_count": 15,
   "id": "725f87e8-ed0d-4867-b8cb-d364f931a4b3",
   "metadata": {},
   "outputs": [
    {
     "name": "stdout",
     "output_type": "stream",
     "text": [
      "('1', '2', '3', '4', '5', '6', '7', '8', '9', '10')\n"
     ]
    }
   ],
   "source": [
    "print(tuple(map(str, l3)))"
   ]
  },
  {
   "cell_type": "markdown",
   "id": "35038526-7fee-42d6-a4e5-568aedde13bc",
   "metadata": {},
   "source": [
    "Q4. Write a python program using reduce function to compute the product of a list containing numbers from 1 to 25."
   ]
  },
  {
   "cell_type": "code",
   "execution_count": 11,
   "id": "b4e9ff2a-11fc-4e6e-9426-2559e79a92c5",
   "metadata": {},
   "outputs": [
    {
     "name": "stdout",
     "output_type": "stream",
     "text": [
      "[1, 2, 3, 4, 5, 6, 7, 8, 9, 10, 11, 12, 13, 14, 15, 16, 17, 18, 19, 20, 21, 22, 23, 24, 25]\n"
     ]
    },
    {
     "data": {
      "text/plain": [
       "15511210043330985984000000"
      ]
     },
     "execution_count": 11,
     "metadata": {},
     "output_type": "execute_result"
    }
   ],
   "source": [
    "from functools import reduce\n",
    "number=range(1,26)\n",
    "print(list(number))\n",
    "reduce(lambda x,y:x*y, list(number))"
   ]
  },
  {
   "cell_type": "markdown",
   "id": "80eedfea-0b84-42c9-bb2c-61dd4405e76e",
   "metadata": {},
   "source": [
    "Q5. Write a python program to filter the numbers in a given list that are divisible by 2 and 3 using the filter function."
   ]
  },
  {
   "cell_type": "code",
   "execution_count": 2,
   "id": "0892e7f2-667e-4547-839e-24007e5469fd",
   "metadata": {},
   "outputs": [],
   "source": [
    "l6=[2,3,6,9,27,60,90,120,55,46]"
   ]
  },
  {
   "cell_type": "code",
   "execution_count": 3,
   "id": "871e2495-a8fe-4b83-8601-f130bb1b30d0",
   "metadata": {},
   "outputs": [
    {
     "data": {
      "text/plain": [
       "[6, 60, 90, 120]"
      ]
     },
     "execution_count": 3,
     "metadata": {},
     "output_type": "execute_result"
    }
   ],
   "source": [
    "list(filter(lambda x:(x%2==0 and x%3==0) ,l6))"
   ]
  },
  {
   "cell_type": "markdown",
   "id": "e06ddcbf-d282-4701-8583-7e8a2b5550f3",
   "metadata": {},
   "source": [
    "Q6.Write a python program to find palindromes in the given list of strings using lambda and filter function."
   ]
  },
  {
   "cell_type": "code",
   "execution_count": 5,
   "id": "6717c832-bd6e-43b9-90c8-fec387a412fe",
   "metadata": {},
   "outputs": [],
   "source": [
    "l7=['python','php','aba','radar','level']"
   ]
  },
  {
   "cell_type": "code",
   "execution_count": 14,
   "id": "29229734-530f-4462-bbd0-0f5ee2d403ac",
   "metadata": {},
   "outputs": [
    {
     "data": {
      "text/plain": [
       "['php', 'aba', 'radar', 'level']"
      ]
     },
     "execution_count": 14,
     "metadata": {},
     "output_type": "execute_result"
    }
   ],
   "source": [
    "list(filter(lambda x:(x == \"\".join(reversed(x))),l7))"
   ]
  },
  {
   "cell_type": "code",
   "execution_count": null,
   "id": "cf0a9b44-945b-4a11-a240-71c96b83c0ce",
   "metadata": {},
   "outputs": [],
   "source": []
  },
  {
   "cell_type": "code",
   "execution_count": null,
   "id": "3ed5e128-3bfd-40e4-ad66-2f0c049cbdb8",
   "metadata": {},
   "outputs": [],
   "source": []
  }
 ],
 "metadata": {
  "kernelspec": {
   "display_name": "Python 3 (ipykernel)",
   "language": "python",
   "name": "python3"
  },
  "language_info": {
   "codemirror_mode": {
    "name": "ipython",
    "version": 3
   },
   "file_extension": ".py",
   "mimetype": "text/x-python",
   "name": "python",
   "nbconvert_exporter": "python",
   "pygments_lexer": "ipython3",
   "version": "3.10.8"
  }
 },
 "nbformat": 4,
 "nbformat_minor": 5
}
