{
 "cells": [
  {
   "cell_type": "markdown",
   "id": "d6881d75-444c-4d40-8187-d021de7c5d8e",
   "metadata": {},
   "source": [
    "Q1. What are the characteristics of the tuples? Is tupple Immutable?"
   ]
  },
  {
   "cell_type": "markdown",
   "id": "2741690d-b35c-4504-9764-8d67743b9039",
   "metadata": {},
   "source": [
    "Ans :- Characteristics of tuple are as follows:-\n",
    "\n",
    "\n",
    "       1. Tuples are ordered, indexed collections of data. Similar as string indices.It can store duplicate values and Once data is assigned to a tuple, the values cannot be changed.\n",
    "       2. Tuples can be iterable through each values.\n",
    "       2. We can perform slicing operation on tuple.\n",
    "       3.We can apply count and index function over tuple.\n",
    "       4. We can find maximum and minimum value from a tuple.\n",
    "       5.We can delete a tuple.\n",
    "       6.Tuples allow you to store several types of data items in one variable\n",
    "      \n",
    "     Tuples are basically follows Immutability concepts where it is not going to change any element at a particular index.\n",
    "       "
   ]
  },
  {
   "cell_type": "markdown",
   "id": "3861730f-1870-44a9-bdb7-ec31e3c85a80",
   "metadata": {},
   "source": [
    "Q2. What are two tuple methods in python? Give an example of each method. Give a reason why tuples have tuples have only two in-built methods as compared to lists."
   ]
  },
  {
   "cell_type": "markdown",
   "id": "146521cb-d919-4fb2-bacf-778fe6c728ec",
   "metadata": {},
   "source": [
    "Ans:- The two tuple methods are count() and index() \n",
    "eg. 1  t1=(1, 2, 3, 45, 45, (54+7j), 'sudh', True)\n",
    "       t1.count(1) ( to count the times of 1 present in tuple)\n",
    "       o/p-> 2\n",
    "eg. 2  t1.index(1)  ( to find the first occurence index of given element in the tuple)\n",
    "        o/p-> 0\n",
    "       \n",
    "There are only two in-built methods as compared to lists because we can not change any thing in the tuple and tuples are immutable.\n",
    "                                           "
   ]
  },
  {
   "cell_type": "markdown",
   "id": "f63b1e41-ed20-4a16-b0bc-022f6e867495",
   "metadata": {},
   "source": [
    "Q3. Which collection datatypes in python do not allow duplicate items? Write a code using a set to remove duplicates from the given list."
   ]
  },
  {
   "cell_type": "code",
   "execution_count": 1,
   "id": "d82ab3cb-a035-4cfd-9628-ce6fc3ab5229",
   "metadata": {},
   "outputs": [],
   "source": [
    "List = [1,1,1,2,1,3,1,4,2,1,2,2,2,3,2,4,3,1,3,2,3,3,3,4,4,1,4,2,4,3,4,4]"
   ]
  },
  {
   "cell_type": "markdown",
   "id": "8bc80d17-8407-4bb5-a8ca-85f06b264e51",
   "metadata": {},
   "source": [
    "Ans:- "
   ]
  },
  {
   "cell_type": "markdown",
   "id": "a93a780e-89f6-4181-b023-ed9af5e4fca9",
   "metadata": {},
   "source": [
    "Set datatypes in python do not allow duplicate items."
   ]
  },
  {
   "cell_type": "code",
   "execution_count": 2,
   "id": "fd862b13-82ce-4f0c-8e11-dc335af18f54",
   "metadata": {},
   "outputs": [],
   "source": [
    "S1=set(List)"
   ]
  },
  {
   "cell_type": "code",
   "execution_count": 3,
   "id": "fa48ad2e-f58b-419f-b264-859c589dccbb",
   "metadata": {},
   "outputs": [
    {
     "data": {
      "text/plain": [
       "{1, 2, 3, 4}"
      ]
     },
     "execution_count": 3,
     "metadata": {},
     "output_type": "execute_result"
    }
   ],
   "source": [
    "S1"
   ]
  },
  {
   "cell_type": "markdown",
   "id": "451c6508-3062-4032-8112-60ff21214135",
   "metadata": {},
   "source": [
    "Q4. Explain the difference between the union() and update() methods for a set. Give an example of each method."
   ]
  },
  {
   "cell_type": "markdown",
   "id": "6f47ef8c-62ca-47a7-a150-123d999690ae",
   "metadata": {},
   "source": [
    "Ans:- Update() method update the same given set while Union() method create the new copy of the given set."
   ]
  },
  {
   "cell_type": "markdown",
   "id": "c13cd9a5-a53e-4c7c-8ecd-1fe4747484a7",
   "metadata": {},
   "source": [
    "Eg.1"
   ]
  },
  {
   "cell_type": "code",
   "execution_count": 10,
   "id": "29e8c7bb-9282-4126-9ca3-3af0133738c6",
   "metadata": {},
   "outputs": [],
   "source": [
    "s1= {1, 2, 3, 4, 6, 7}\n",
    "s2={8,9,10}\n",
    "s1.update(s2)"
   ]
  },
  {
   "cell_type": "code",
   "execution_count": 11,
   "id": "e25eb827-bcdb-4bc9-a15e-bdeea454ddb1",
   "metadata": {},
   "outputs": [
    {
     "data": {
      "text/plain": [
       "{1, 2, 3, 4, 6, 7, 8, 9, 10}"
      ]
     },
     "execution_count": 11,
     "metadata": {},
     "output_type": "execute_result"
    }
   ],
   "source": [
    "s1"
   ]
  },
  {
   "cell_type": "markdown",
   "id": "6daa866e-2b41-4b65-abd9-4b1a22430b3c",
   "metadata": {},
   "source": [
    "Eg2."
   ]
  },
  {
   "cell_type": "code",
   "execution_count": 14,
   "id": "090a85e3-db42-492d-b6fc-0690ea0443e5",
   "metadata": {},
   "outputs": [
    {
     "data": {
      "text/plain": [
       "{1, 2, 3, 4, 6, 7, 8, 9, 10}"
      ]
     },
     "execution_count": 14,
     "metadata": {},
     "output_type": "execute_result"
    }
   ],
   "source": [
    "s2.union(s1)"
   ]
  },
  {
   "cell_type": "code",
   "execution_count": 15,
   "id": "93868078-e25f-45ea-ae06-3ed742a561e9",
   "metadata": {},
   "outputs": [
    {
     "data": {
      "text/plain": [
       "{8, 9, 10}"
      ]
     },
     "execution_count": 15,
     "metadata": {},
     "output_type": "execute_result"
    }
   ],
   "source": [
    "s2"
   ]
  },
  {
   "cell_type": "markdown",
   "id": "73f05759-24d7-4f19-a94f-d7a0d10a4872",
   "metadata": {},
   "source": [
    "Here set s2 value not changes post union method use."
   ]
  },
  {
   "cell_type": "markdown",
   "id": "422d041c-4227-4a2d-b0a9-7cd73fde3c6a",
   "metadata": {},
   "source": [
    "Q5. What is a dictionary ? Give an example.Also,state whether a dictionary is ordered or unordered."
   ]
  },
  {
   "cell_type": "markdown",
   "id": "15904ecf-7086-45ac-bf42-917f3678c4be",
   "metadata": {},
   "source": [
    "Ans:- The dictionary is an unordered collection which contains key:value pairs separated by commas inside curly brackets. "
   ]
  },
  {
   "cell_type": "code",
   "execution_count": 17,
   "id": "50640228-26e2-4c7b-9036-d000d4ac50e8",
   "metadata": {},
   "outputs": [],
   "source": [
    "d1={\"name\" : \"sudh\",\"email_id\" : \"s.t.stu85@gmail.com\",\"number\":234345}"
   ]
  },
  {
   "cell_type": "code",
   "execution_count": 18,
   "id": "30049fa4-ce2a-4233-bbe6-8e3b638ef174",
   "metadata": {},
   "outputs": [
    {
     "data": {
      "text/plain": [
       "{'name': 'sudh', 'email_id': 's.t.stu85@gmail.com', 'number': 234345}"
      ]
     },
     "execution_count": 18,
     "metadata": {},
     "output_type": "execute_result"
    }
   ],
   "source": [
    "d1"
   ]
  },
  {
   "cell_type": "markdown",
   "id": "75208681-c1ae-4880-aa38-fb1e4762f68a",
   "metadata": {},
   "source": [
    "Q6. Can we create a nested dictionary ? if so, please give an example by creating a simple one-level nested dictionary."
   ]
  },
  {
   "cell_type": "markdown",
   "id": "54ab28f7-0cf3-481c-a65a-94fc5e98cae8",
   "metadata": {},
   "source": [
    "Ans :- Yes we can create a nested dictionary."
   ]
  },
  {
   "cell_type": "code",
   "execution_count": 36,
   "id": "9532212d-7099-4ea0-b1cc-35593102561f",
   "metadata": {},
   "outputs": [
    {
     "data": {
      "text/plain": [
       "{'key': {'name': 'sudhanshu', 'class': 'DSA'}, 'key1': 'abc'}"
      ]
     },
     "execution_count": 36,
     "metadata": {},
     "output_type": "execute_result"
    }
   ],
   "source": [
    "{'key': {'name': 'sudhanshu', 'class': 'DSA'}, 'key1': 'abc'}"
   ]
  },
  {
   "cell_type": "markdown",
   "id": "6c267730-5258-4849-b0fe-49544a61eb08",
   "metadata": {},
   "source": [
    "Q7. Using setdefault() method, create key named topics in the given dictionary and also add the value of the key as this list ['Python','Machine learning','Deep learning']\n",
    "dict1={'language':'Python','course':'Data Science Masters'}"
   ]
  },
  {
   "cell_type": "code",
   "execution_count": 52,
   "id": "05e5adec-ceea-45de-abd6-08438d82d6b2",
   "metadata": {},
   "outputs": [],
   "source": [
    "dict2={'language':'Python','course':'Data Science Masters'}"
   ]
  },
  {
   "cell_type": "code",
   "execution_count": 53,
   "id": "b3517154-509a-46ba-be9d-afd0fddeae9d",
   "metadata": {},
   "outputs": [],
   "source": [
    "dict2.setdefault('topics',None)"
   ]
  },
  {
   "cell_type": "code",
   "execution_count": 54,
   "id": "290e5c49-b6dc-40d6-8673-9bf496a36dfe",
   "metadata": {},
   "outputs": [
    {
     "data": {
      "text/plain": [
       "{'language': 'Python', 'course': 'Data Science Masters', 'topics': None}"
      ]
     },
     "execution_count": 54,
     "metadata": {},
     "output_type": "execute_result"
    }
   ],
   "source": [
    "dict2"
   ]
  },
  {
   "cell_type": "code",
   "execution_count": 29,
   "id": "d1da4863-7a82-4896-b3f9-b8727a04d7e9",
   "metadata": {},
   "outputs": [],
   "source": [
    "topics=['Python','Machine learning','Deep learning']"
   ]
  },
  {
   "cell_type": "code",
   "execution_count": 39,
   "id": "0e2e0487-0395-43a8-96a9-e738d75440c6",
   "metadata": {},
   "outputs": [
    {
     "data": {
      "text/plain": [
       "{'language': 'Python', 'course': 'Data Science Masters', 'topics': None}"
      ]
     },
     "execution_count": 39,
     "metadata": {},
     "output_type": "execute_result"
    }
   ],
   "source": [
    "dict1"
   ]
  },
  {
   "cell_type": "code",
   "execution_count": 55,
   "id": "008bf904-797a-474a-a66d-7a17e5310451",
   "metadata": {},
   "outputs": [],
   "source": [
    "dict2['topics']=['Python','Machine learning','Deep learning']"
   ]
  },
  {
   "cell_type": "code",
   "execution_count": 56,
   "id": "99128e37-a678-42f2-849e-af26d9e457c7",
   "metadata": {},
   "outputs": [
    {
     "data": {
      "text/plain": [
       "{'language': 'Python',\n",
       " 'course': 'Data Science Masters',\n",
       " 'topics': ['Python', 'Machine learning', 'Deep learning']}"
      ]
     },
     "execution_count": 56,
     "metadata": {},
     "output_type": "execute_result"
    }
   ],
   "source": [
    "dict2"
   ]
  },
  {
   "cell_type": "markdown",
   "id": "b9cb2116-4f48-48cb-a64d-af4c1bd95e6b",
   "metadata": {},
   "source": [
    "Q8. What are the three view objects in dictionaries? Use the three in-built methods in Python to display these three view objects for the given dictionary."
   ]
  },
  {
   "cell_type": "code",
   "execution_count": 57,
   "id": "77493d6a-6d8c-4092-987f-943323e0a10b",
   "metadata": {},
   "outputs": [],
   "source": [
    "dict1={'Sport':'Cricket','Teams':['India','Australia','England','South Africa','Sri Lanka','New Zealand']}"
   ]
  },
  {
   "cell_type": "markdown",
   "id": "2b552e8e-82ab-4919-9533-1b2aa969ac71",
   "metadata": {},
   "source": [
    "Ans:-The main three view objects of dictionary are keys, values and items.Keys gives all the keys of the dictionary,values objects gives all the values and items gives the key-value pairs."
   ]
  },
  {
   "cell_type": "code",
   "execution_count": 59,
   "id": "e2508fef-b0a6-4bd1-9563-3dc9ad3e27eb",
   "metadata": {},
   "outputs": [
    {
     "data": {
      "text/plain": [
       "dict_keys(['Sport', 'Teams'])"
      ]
     },
     "execution_count": 59,
     "metadata": {},
     "output_type": "execute_result"
    }
   ],
   "source": [
    "dict1.keys()"
   ]
  },
  {
   "cell_type": "code",
   "execution_count": 60,
   "id": "596bbb29-6803-47c8-b37f-ab1bdad97be2",
   "metadata": {},
   "outputs": [
    {
     "data": {
      "text/plain": [
       "dict_values(['Cricket', ['India', 'Australia', 'England', 'South Africa', 'Sri Lanka', 'New Zealand']])"
      ]
     },
     "execution_count": 60,
     "metadata": {},
     "output_type": "execute_result"
    }
   ],
   "source": [
    "dict1.values()"
   ]
  },
  {
   "cell_type": "code",
   "execution_count": 61,
   "id": "b60f8e8c-328f-4117-a6e8-02c852cfd50c",
   "metadata": {},
   "outputs": [
    {
     "data": {
      "text/plain": [
       "dict_items([('Sport', 'Cricket'), ('Teams', ['India', 'Australia', 'England', 'South Africa', 'Sri Lanka', 'New Zealand'])])"
      ]
     },
     "execution_count": 61,
     "metadata": {},
     "output_type": "execute_result"
    }
   ],
   "source": [
    "dict1.items()"
   ]
  },
  {
   "cell_type": "code",
   "execution_count": null,
   "id": "e8a6eba9-6370-4c73-8b48-0dcd32181ecc",
   "metadata": {},
   "outputs": [],
   "source": []
  }
 ],
 "metadata": {
  "kernelspec": {
   "display_name": "Python 3 (ipykernel)",
   "language": "python",
   "name": "python3"
  },
  "language_info": {
   "codemirror_mode": {
    "name": "ipython",
    "version": 3
   },
   "file_extension": ".py",
   "mimetype": "text/x-python",
   "name": "python",
   "nbconvert_exporter": "python",
   "pygments_lexer": "ipython3",
   "version": "3.10.8"
  }
 },
 "nbformat": 4,
 "nbformat_minor": 5
}
