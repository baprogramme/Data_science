{
 "cells": [
  {
   "cell_type": "markdown",
   "id": "65916eaf-f685-4508-8019-dcb56ebf01ab",
   "metadata": {},
   "source": [
    "Q1. Which keyword is used to create a function ? Create  afunction to return a list of odd numbers in the range of 1 to 25."
   ]
  },
  {
   "cell_type": "markdown",
   "id": "7a0fe268-705a-4d77-bce5-4ce45e456a00",
   "metadata": {},
   "source": [
    "Ans:- 'def' keyword used to create a function "
   ]
  },
  {
   "cell_type": "markdown",
   "id": "79a2c2bb-57b9-4ef4-b471-4dea5d1412df",
   "metadata": {},
   "source": [
    "eg. "
   ]
  },
  {
   "cell_type": "code",
   "execution_count": 7,
   "id": "555354aa-1ead-43a0-a036-b2db478ca821",
   "metadata": {},
   "outputs": [],
   "source": [
    "def odd_number():\n",
    "    for i in range(1,25):\n",
    "        if i%2==0:\n",
    "            print(i)\n",
    "        else:\n",
    "            continue"
   ]
  },
  {
   "cell_type": "code",
   "execution_count": 8,
   "id": "7b9d8d9d-5280-49ea-88b9-966e6939eef0",
   "metadata": {},
   "outputs": [
    {
     "name": "stdout",
     "output_type": "stream",
     "text": [
      "2\n",
      "4\n",
      "6\n",
      "8\n",
      "10\n",
      "12\n",
      "14\n",
      "16\n",
      "18\n",
      "20\n",
      "22\n",
      "24\n"
     ]
    }
   ],
   "source": [
    "odd_number()"
   ]
  },
  {
   "cell_type": "markdown",
   "id": "f2f0cdbe-1c16-4d03-9a2b-767e57b84e1b",
   "metadata": {},
   "source": [
    "Q2. Why *args and **kwargs is used in some functions ? Create a function each for *args and **kwargs to demonstrate their use."
   ]
  },
  {
   "cell_type": "markdown",
   "id": "fa3c785d-dc8b-432d-9bd0-2dd0a7e98f62",
   "metadata": {},
   "source": [
    "Ans:- The *args keyword used when we are not sure how many argument required to pass for the function then we use *args mens we can pass any number of argument. **kwargs we can use when we need to pass as key value pair as argument."
   ]
  },
  {
   "cell_type": "markdown",
   "id": "775cb46d-0eb2-47c8-8033-6c2ede7dd3fe",
   "metadata": {},
   "source": [
    "eg."
   ]
  },
  {
   "cell_type": "code",
   "execution_count": 9,
   "id": "60d20269-9cf5-4e2c-92e8-f3cee76eddd6",
   "metadata": {},
   "outputs": [],
   "source": [
    "def test1(*args):\n",
    "    return args"
   ]
  },
  {
   "cell_type": "code",
   "execution_count": 10,
   "id": "ae5c9f85-26a5-4e76-b0eb-42d89c705fcb",
   "metadata": {},
   "outputs": [
    {
     "data": {
      "text/plain": [
       "('sudh', [1, 2, 3, 4, 5], (1, 2, 3, 4, 5))"
      ]
     },
     "execution_count": 10,
     "metadata": {},
     "output_type": "execute_result"
    }
   ],
   "source": [
    "test1(\"sudh\",[1,2,3,4,5],(1,2,3,4,5))"
   ]
  },
  {
   "cell_type": "markdown",
   "id": "450ad1de-ceb3-46e4-9558-dc23e1d7fb08",
   "metadata": {},
   "source": [
    "eg."
   ]
  },
  {
   "cell_type": "code",
   "execution_count": 11,
   "id": "6df5d877-2153-41e1-8926-3c4dfc63d9f1",
   "metadata": {},
   "outputs": [],
   "source": [
    "def test6(**kwargs):\n",
    "    for i in kwargs.keys():\n",
    "        if type(kwargs[i])==list:\n",
    "                return i,kwargs[i]"
   ]
  },
  {
   "cell_type": "code",
   "execution_count": 12,
   "id": "44a58cd9-d769-4661-82eb-8a7f55460d99",
   "metadata": {},
   "outputs": [
    {
     "data": {
      "text/plain": [
       "('c', [1, 2, 3, 4])"
      ]
     },
     "execution_count": 12,
     "metadata": {},
     "output_type": "execute_result"
    }
   ],
   "source": [
    "test6(a=34,b=23,c=[1,2,3,4],d=(\"sudh\",\"pwskills\"))"
   ]
  },
  {
   "cell_type": "markdown",
   "id": "aa21e9c3-08a4-4046-877e-940d628f36bd",
   "metadata": {},
   "source": [
    "Q3. What is an iterator in python?Name the method used to initialise the iterator object and the method used for iteration. Use these methods to print the first five elements of the given list [2,4,6,8,10,12,14,16,18,20]\n",
    "."
   ]
  },
  {
   "cell_type": "markdown",
   "id": "c8386100-4a0b-4017-949a-41117969e2e7",
   "metadata": {},
   "source": [
    "Ans:-"
   ]
  },
  {
   "cell_type": "markdown",
   "id": "7d8ed9b5-31f0-4c86-8a1e-66379e4b09c2",
   "metadata": {},
   "source": [
    "It is an object that is used to iterate over iterable objects like lists,tuples, dicts and sets. iter() method is used to initialized the objects. "
   ]
  },
  {
   "cell_type": "code",
   "execution_count": 37,
   "id": "ebc76717-326b-4771-8942-4d1330a27d4e",
   "metadata": {},
   "outputs": [],
   "source": [
    "list= [2,4,6,8,10,12,14,16,18,20]"
   ]
  },
  {
   "cell_type": "code",
   "execution_count": 38,
   "id": "7a092bd1-229a-4753-a4db-c6ce638c859c",
   "metadata": {},
   "outputs": [],
   "source": [
    "iterator=iter(list)"
   ]
  },
  {
   "cell_type": "code",
   "execution_count": 39,
   "id": "08f43282-4063-420c-b50f-b05198ea62aa",
   "metadata": {},
   "outputs": [
    {
     "name": "stdout",
     "output_type": "stream",
     "text": [
      "2\n",
      "4\n",
      "6\n",
      "8\n",
      "10\n"
     ]
    }
   ],
   "source": [
    "count=0\n",
    "for i in iterator:\n",
    "    if count<5:\n",
    "        print(i)\n",
    "        count=count+1\n",
    "    else:\n",
    "              break"
   ]
  },
  {
   "cell_type": "markdown",
   "id": "1aac7ba8-77ee-46b2-ae0c-fb865c7c299c",
   "metadata": {},
   "source": [
    "Q4. What is a generator function in python? why yield keyword is used ? Give an example of generator function."
   ]
  },
  {
   "cell_type": "markdown",
   "id": "50a4282b-708b-44ca-a5ef-902a9b923f02",
   "metadata": {},
   "source": [
    "Ans:-"
   ]
  },
  {
   "cell_type": "markdown",
   "id": "942f7bde-7fe9-4eef-9bef-450bd4526c10",
   "metadata": {},
   "source": [
    "Generator function works as iterators and return a traversal object. It traverse all the items one at a time with the help of the keyword yield. Yield keyword is used to produce  the value from the generator function  and pause the generator function's execution until the next value is requested."
   ]
  },
  {
   "cell_type": "code",
   "execution_count": 43,
   "id": "391f3587-6c65-46f9-9874-5a0e884c6b85",
   "metadata": {},
   "outputs": [],
   "source": [
    "def test_fib(n):\n",
    "    a,b=0,1\n",
    "    for i in range(n):\n",
    "        yield a\n",
    "        a,b=b,a+b"
   ]
  },
  {
   "cell_type": "code",
   "execution_count": 45,
   "id": "89aee513-9fae-4c31-a783-fb6ad21cad1c",
   "metadata": {},
   "outputs": [
    {
     "name": "stdout",
     "output_type": "stream",
     "text": [
      "0\n",
      "1\n",
      "1\n",
      "2\n",
      "3\n",
      "5\n",
      "8\n",
      "13\n",
      "21\n",
      "34\n"
     ]
    }
   ],
   "source": [
    "for i in test_fib(10):\n",
    "    print(i)"
   ]
  },
  {
   "cell_type": "markdown",
   "id": "07664319-048f-478e-8731-57b5a356f66d",
   "metadata": {},
   "source": [
    "Q5. Create a generator function for prime numbers less than 1000. Use the next() method to print the first 20 prime numbers."
   ]
  },
  {
   "cell_type": "code",
   "execution_count": 58,
   "id": "e6db2264-68ee-43ad-bcec-7055ea679fc5",
   "metadata": {},
   "outputs": [],
   "source": [
    "def prime_number():\n",
    "    yield 2\n",
    "    prime = [2]\n",
    "    value = 3\n",
    "    while value < 1000:\n",
    "        is_prime = True\n",
    "        for i in prime:\n",
    "            if value % i == 0:\n",
    "                is_prime = False\n",
    "                break\n",
    "        if is_prime:\n",
    "            prime.append(value)\n",
    "            yield value\n",
    "        value += 2\n",
    "\n",
    "prime = prime_number()"
   ]
  },
  {
   "cell_type": "code",
   "execution_count": 57,
   "id": "9975f575-d54e-4b8e-833e-12f9184dc002",
   "metadata": {},
   "outputs": [
    {
     "ename": "TypeError",
     "evalue": "'types.GenericAlias' object is not iterable",
     "output_type": "error",
     "traceback": [
      "\u001b[0;31m---------------------------------------------------------------------------\u001b[0m",
      "\u001b[0;31mTypeError\u001b[0m                                 Traceback (most recent call last)",
      "Cell \u001b[0;32mIn[57], line 1\u001b[0m\n\u001b[0;32m----> 1\u001b[0m primes\u001b[38;5;241m=\u001b[39m\u001b[43mprintPrime\u001b[49m\u001b[43m(\u001b[49m\u001b[38;5;241;43m1000\u001b[39;49m\u001b[43m)\u001b[49m\n",
      "Cell \u001b[0;32mIn[56], line 10\u001b[0m, in \u001b[0;36mprintPrime\u001b[0;34m(n)\u001b[0m\n\u001b[1;32m      9\u001b[0m \u001b[38;5;28;01mdef\u001b[39;00m \u001b[38;5;21mprintPrime\u001b[39m(n):\n\u001b[0;32m---> 10\u001b[0m     \u001b[38;5;28;01mfor\u001b[39;00m i \u001b[38;5;129;01min\u001b[39;00m \u001b[38;5;28mlist\u001b[39m[\u001b[38;5;241m2\u001b[39m:n \u001b[38;5;241m+\u001b[39m \u001b[38;5;241m1\u001b[39m]:\n\u001b[1;32m     11\u001b[0m         \u001b[38;5;28;01mif\u001b[39;00m isPrime(i):\n\u001b[1;32m     12\u001b[0m             \u001b[38;5;28mprint\u001b[39m([i], end \u001b[38;5;241m=\u001b[39m \u001b[38;5;124m\"\u001b[39m\u001b[38;5;124m \u001b[39m\u001b[38;5;124m\"\u001b[39m)\n",
      "\u001b[0;31mTypeError\u001b[0m: 'types.GenericAlias' object is not iterable"
     ]
    }
   ],
   "source": [
    "Prime(1000)\n"
   ]
  },
  {
   "cell_type": "code",
   "execution_count": 53,
   "id": "5f9bfe39-cea1-4421-8713-8d50a503c6c3",
   "metadata": {},
   "outputs": [
    {
     "ename": "TypeError",
     "evalue": "'NoneType' object is not an iterator",
     "output_type": "error",
     "traceback": [
      "\u001b[0;31m---------------------------------------------------------------------------\u001b[0m",
      "\u001b[0;31mTypeError\u001b[0m                                 Traceback (most recent call last)",
      "Cell \u001b[0;32mIn[53], line 2\u001b[0m\n\u001b[1;32m      1\u001b[0m \u001b[38;5;28;01mfor\u001b[39;00m i \u001b[38;5;129;01min\u001b[39;00m \u001b[38;5;28mrange\u001b[39m(\u001b[38;5;241m20\u001b[39m):\n\u001b[0;32m----> 2\u001b[0m     \u001b[38;5;28mprint\u001b[39m(\u001b[38;5;28;43mnext\u001b[39;49m\u001b[43m(\u001b[49m\u001b[43mprimes\u001b[49m\u001b[43m)\u001b[49m)\n",
      "\u001b[0;31mTypeError\u001b[0m: 'NoneType' object is not an iterator"
     ]
    }
   ],
   "source": [
    "for i in range(20):\n",
    "    print(next(primes))\n",
    "    \n",
    "            \n",
    "            \n",
    "               \n",
    "\n",
    "    \n",
    "       \n",
    "            \n",
    "                \n",
    "            \n",
    "\n",
    "    \n",
    "\n",
    "    \n",
    "        \n",
    "            \n",
    "  "
   ]
  },
  {
   "cell_type": "code",
   "execution_count": 108,
   "id": "58c9414c-2557-47c1-99c0-254382062366",
   "metadata": {},
   "outputs": [
    {
     "name": "stdout",
     "output_type": "stream",
     "text": [
      "[None]\n"
     ]
    }
   ],
   "source": []
  },
  {
   "cell_type": "code",
   "execution_count": null,
   "id": "5ebbb5e4-327e-401b-893b-a8636eea8759",
   "metadata": {},
   "outputs": [],
   "source": []
  },
  {
   "cell_type": "code",
   "execution_count": null,
   "id": "4e80f38c-f37c-4986-8f41-5f98de975937",
   "metadata": {},
   "outputs": [],
   "source": []
  }
 ],
 "metadata": {
  "kernelspec": {
   "display_name": "Python 3 (ipykernel)",
   "language": "python",
   "name": "python3"
  },
  "language_info": {
   "codemirror_mode": {
    "name": "ipython",
    "version": 3
   },
   "file_extension": ".py",
   "mimetype": "text/x-python",
   "name": "python",
   "nbconvert_exporter": "python",
   "pygments_lexer": "ipython3",
   "version": "3.10.8"
  }
 },
 "nbformat": 4,
 "nbformat_minor": 5
}
