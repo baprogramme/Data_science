{
 "cells": [
  {
   "cell_type": "markdown",
   "id": "14b0789d-505f-47ed-8fb0-89de32fbb480",
   "metadata": {},
   "source": [
    "Q1: What is Estimation Statistics? Explain point estimate and interval estimate."
   ]
  },
  {
   "cell_type": "markdown",
   "id": "3aa236b6-90b4-4654-8be9-b8089cbd9d4e",
   "metadata": {},
   "source": [
    "Estimation statistics, or simply estimation, is a data analysis framework that uses a combination of effect sizes, confidence intervals, precision planning, and meta-analysis to plan experiments, analyze data and interpret results.\n",
    "\n",
    "A point estimate is a single value estimate of a parameter. For instance, a sample mean is a point estimate of a population mean.\n",
    "An interval estimate gives you a range of values where the parameter is expected to lie. A confidence interval is the most common type of interval estimate."
   ]
  },
  {
   "cell_type": "markdown",
   "id": "be8d2463-8af0-4595-9930-818737a1beac",
   "metadata": {},
   "source": [
    "Q2. Write a Python function to estimate the population mean using a sample mean and standard\n",
    "deviation."
   ]
  },
  {
   "cell_type": "code",
   "execution_count": 1,
   "id": "b95ada51-c070-4e8c-b04c-7ce50d58d635",
   "metadata": {},
   "outputs": [
    {
     "name": "stdout",
     "output_type": "stream",
     "text": [
      "Population mean: 2.0\n"
     ]
    }
   ],
   "source": [
    "import math\n",
    "\n",
    "def population_mean(sample_mean, sample_std, sample_size):\n",
    "    std_error = sample_std / math.sqrt(sample_size)\n",
    "    z_value = 1.96 # assume a 95% confidence level and use the corresponding z-value\n",
    "    margin_of_error = z_value * std_error \n",
    "    lower_bound = sample_mean - margin_of_error \n",
    "    upper_bound = sample_mean + margin_of_error \n",
    "    return ((lower_bound + upper_bound) / 2)\n",
    "\n",
    "result = population_mean(2,5,20000)\n",
    "\n",
    "print(f\"Population mean: {result}\")"
   ]
  },
  {
   "cell_type": "markdown",
   "id": "abb7525d-6e6d-4166-bc0e-64b3236af590",
   "metadata": {},
   "source": [
    "Q3: What is Hypothesis testing? Why is it used? State the importance of Hypothesis testing."
   ]
  },
  {
   "cell_type": "markdown",
   "id": "a8994bbc-c747-4b0b-ab4e-0c7b9ec08c8b",
   "metadata": {},
   "source": [
    "Hypothesis testing is a statistical method used to make decisions or draw conclusions about a population based on a sample of data. It involves comparing a hypothesis or claim about a population parameter (such as a mean or proportion) with the data from a sample, in order to determine if the hypothesis is likely to be true.\n",
    "\n",
    "Hypothesis testing is used to test the validity of a theory or claim.\n",
    "\n",
    "For example, in medical research, hypothesis testing can be used to determine if a new drug is effective in treating a disease by comparing its effects to a placebo. In business, hypothesis testing can be used to evaluate whether a new marketing strategy is effective in increasing sales.\n",
    "\n",
    "The importance of hypothesis testing lies in its ability to provide evidence for or against a theory or claim, and to help researchers make informed decisions based on data. It allows researchers to determine if an observed difference between groups or variables is statistically significant or simply due to chance, and to quantify the level of uncertainty in their findings. This can help researchers to draw conclusions that are based on evidence and minimize the risk of drawing incorrect or unsupported conclusions."
   ]
  },
  {
   "cell_type": "markdown",
   "id": "993e1e30-26fc-40f5-9220-5e58c16c823b",
   "metadata": {},
   "source": [
    "Q4. Create a hypothesis that states whether the average weight of male college students is greater than\n",
    "the average weight of female college students."
   ]
  },
  {
   "cell_type": "markdown",
   "id": "7a87f351-e584-423b-9560-0c0781780178",
   "metadata": {},
   "source": [
    "The null hypothesis would be:\n",
    "\n",
    "H0: The average weight of male college students is not greater than the average weight of female college students.\n",
    "\n",
    "The alternative hypothesis would be:\n",
    "\n",
    "H1: The average weight of male college students is greater than the average weight of female college students."
   ]
  },
  {
   "cell_type": "markdown",
   "id": "8c207474-32c1-4d23-915e-219347e267b0",
   "metadata": {},
   "source": [
    "Q5. Write a Python script to conduct a hypothesis test on the difference between two population means,\n",
    "given a sample from each population."
   ]
  },
  {
   "cell_type": "code",
   "execution_count": 2,
   "id": "7cde0b20-3f84-4ec1-a6cd-2a26f7e91793",
   "metadata": {},
   "outputs": [
    {
     "name": "stdout",
     "output_type": "stream",
     "text": [
      "t-statistic:  -6.676592404139057\n",
      "p-value:  2.407271811260503e-10\n",
      "Reject null hypothesis\n"
     ]
    }
   ],
   "source": [
    "import numpy as np\n",
    "from scipy.stats import ttest_ind\n",
    "\n",
    "# create two random samples\n",
    "sample1 = np.random.normal(10, 2, 100)\n",
    "sample2 = np.random.normal(12, 2, 100)\n",
    "\n",
    "# conduct t-test\n",
    "t_stat, p_val = ttest_ind(sample1, sample2)\n",
    "\n",
    "# print results\n",
    "print(\"t-statistic: \", t_stat)\n",
    "print(\"p-value: \", p_val)\n",
    "\n",
    "# check if p-value is significant at 5% level\n",
    "if p_val < 0.05:\n",
    "    print(\"Reject null hypothesis\")\n",
    "else:\n",
    "    print(\"Fail to reject null hypothesis\")"
   ]
  },
  {
   "cell_type": "markdown",
   "id": "f45220ff-64ae-4dac-8d59-6e9012c53639",
   "metadata": {},
   "source": [
    "Q6: What is a null and alternative hypothesis? Give some examples."
   ]
  },
  {
   "cell_type": "markdown",
   "id": "ada27a14-5e2d-4c8d-a75d-9a1a539bcf6d",
   "metadata": {},
   "source": [
    "The null hypothesis is the one to be tested and the alternative is everything else. In our example: The null hypothesis would be: The mean data scientist salary is 113,000 dollars. While the alternative: The mean data scientist salary is not 113,000 dollars."
   ]
  },
  {
   "cell_type": "markdown",
   "id": "549b5335-e33d-4774-b009-9867ca8d2a1a",
   "metadata": {},
   "source": [
    "Q7: Write down the steps involved in hypothesis testing."
   ]
  },
  {
   "cell_type": "markdown",
   "id": "a5e05caf-3f8c-4e43-a472-355f3305e5c6",
   "metadata": {},
   "source": [
    "State your research hypothesis as a null hypothesis and alternate hypothesis (Ho) and (Ha or H1). Collect data in a way designed to test the hypothesis. Perform an appropriate statistical test. Decide whether to reject or fail to reject your null hypothesis."
   ]
  },
  {
   "cell_type": "markdown",
   "id": "1fe853be-f3c9-4619-9a27-5c2c3d855be2",
   "metadata": {},
   "source": [
    "Q8. Define p-value and explain its significance in hypothesis testing."
   ]
  },
  {
   "cell_type": "markdown",
   "id": "534736e5-4fcd-4203-9d02-87a3e31c9bed",
   "metadata": {},
   "source": [
    "A p-value is a statistical measurement used to validate a hypothesis against observed data. A p-value measures the probability of obtaining the observed results, assuming that the null hypothesis is true. The lower the p-value, the greater the statistical significance of the observed difference."
   ]
  },
  {
   "cell_type": "markdown",
   "id": "46858658-b31d-4497-8fa3-5b3c2d56627c",
   "metadata": {},
   "source": [
    "Q9. Generate a Student's t-distribution plot using Python's matplotlib library, with the degrees of freedom parameter set to 10."
   ]
  },
  {
   "cell_type": "code",
   "execution_count": 1,
   "id": "20f70d4d-7504-413c-9465-104171e51393",
   "metadata": {},
   "outputs": [
    {
     "data": {
      "text/plain": [
       "(array([7.65289964e-04, 1.91322491e-04, 1.33925744e-03, 6.50496469e-03,\n",
       "        1.22446394e-02, 2.42979563e-02, 5.54835224e-02, 1.32586486e-01,\n",
       "        2.38005179e-01, 3.48206933e-01, 3.78435887e-01, 3.20656495e-01,\n",
       "        2.07393580e-01, 1.04462080e-01, 4.99351701e-02, 2.08541515e-02,\n",
       "        7.46157715e-03, 2.10454740e-03, 1.33925744e-03, 9.56612455e-04]),\n",
       " array([-5.43189888, -4.90922118, -4.38654348, -3.86386578, -3.34118807,\n",
       "        -2.81851037, -2.29583267, -1.77315497, -1.25047726, -0.72779956,\n",
       "        -0.20512186,  0.31755584,  0.84023355,  1.36291125,  1.88558895,\n",
       "         2.40826665,  2.93094436,  3.45362206,  3.97629976,  4.49897746,\n",
       "         5.02165517]),\n",
       " <BarContainer object of 20 artists>)"
      ]
     },
     "execution_count": 1,
     "metadata": {},
     "output_type": "execute_result"
    },
    {
     "data": {
      "image/png": "[encoded data removed]",
      "text/plain": [
       "<Figure size 640x480 with 1 Axes>"
      ]
     },
     "metadata": {},
     "output_type": "display_data"
    }
   ],
   "source": [
    "from scipy.stats import t\n",
    "import matplotlib.pyplot as plt\n",
    "\n",
    "#generate t distribution with sample size 10000\n",
    "x = t.rvs(df=10, size=10000)\n",
    "\n",
    "plt.hist(x, density=True, edgecolor='black', bins=20)"
   ]
  },
  {
   "cell_type": "markdown",
   "id": "65211f13-ad68-457f-b267-217aad1e2832",
   "metadata": {},
   "source": [
    "Q10. Write a Python program to calculate the two-sample t-test for independent samples, given two random samples of equal size and a null hypothesis that the population means are equal."
   ]
  },
  {
   "cell_type": "code",
   "execution_count": 2,
   "id": "a02b3fbf-e66c-4ffe-b09d-ed15e6f75c78",
   "metadata": {},
   "outputs": [
    {
     "name": "stdout",
     "output_type": "stream",
     "text": [
      "t-test statistic: -5.996272411102844\n",
      "p-value: 9.423435887428009e-09\n",
      "Reject the null hypothesis\n"
     ]
    }
   ],
   "source": [
    "import numpy as np\n",
    "from scipy.stats import ttest_ind\n",
    "\n",
    "sample1 = np.random.normal(10, 2, 100)\n",
    "sample2 = np.random.normal(12, 2, 100)\n",
    "\n",
    "#calculate the t-test statistic and p-value\n",
    "t_statistic, p_value = ttest_ind(sample1, sample2)\n",
    "\n",
    "print(\"t-test statistic:\", t_statistic)\n",
    "print(\"p-value:\", p_value)\n",
    "\n",
    "#compare the p-value to the significance level\n",
    "alpha = 0.05\n",
    "if p_value < alpha:\n",
    "    print(\"Reject the null hypothesis\")\n",
    "else:\n",
    "    print(\"Fail to reject the null hypothesis\")"
   ]
  },
  {
   "cell_type": "markdown",
   "id": "5a417c22-c2fa-4fa7-b00b-97f21c210028",
   "metadata": {},
   "source": [
    "Q11: What is Student’s t distribution? When to use the t-Distribution."
   ]
  },
  {
   "cell_type": "markdown",
   "id": "98b874f1-e41d-442b-8226-1dd50c021ab4",
   "metadata": {},
   "source": [
    "Student's t distribution is a probability distribution that is used in hypothesis testing when the sample size is small and the population standard deviation is unknown.\n",
    "It is similar to the standard normal distribution (z-distribution), but has heavier tails, which means it has more probability in the tails and less in the center compared to the standard normal distribution. The shape of the t-distribution depends on the sample size, with smaller sample sizes resulting in a more spread-out distribution.\n",
    "\n",
    "The t-distribution is used in situations where the population standard deviation is unknown and must be estimated from the sample data.\n",
    "It is also used when the sample size is small (typically less than 30) and the population is normally distributed. The t-distribution allows for greater uncertainty in the estimate of the population standard deviation due to the smaller sample size."
   ]
  },
  {
   "cell_type": "markdown",
   "id": "e5615183-6aa9-45ce-9069-8f85d55a60a1",
   "metadata": {},
   "source": [
    "Q12: What is t-statistic? State the formula for t-statistic."
   ]
  },
  {
   "cell_type": "markdown",
   "id": "2c712879-b78b-4b07-835d-90825aa0fbba",
   "metadata": {},
   "source": [
    "Answer:\n",
    "The t-statistic is a measure of how many standard errors the sample mean is from the hypothesized population mean, under the assumption that the population variance is unknown and must be estimated from the sample data. It is used in hypothesis testing to determine whether the difference between the sample mean and the hypothesized population mean is statistically significant.\n",
    "\n",
    "The formula for the t-statistic is:\n",
    "t = (x̄ - μ) / (s / √n)\n",
    "\n",
    "where:\n",
    "x̄ is the sample mean\n",
    "μ is the hypothesized population mean\n",
    "s is the sample standard deviation\n",
    "n is the sample size\n",
    "√n is the square root of the sample size"
   ]
  },
  {
   "cell_type": "markdown",
   "id": "aa7df19d-e96b-477e-8197-a4c904493410",
   "metadata": {},
   "source": [
    "Q13. A coffee shop owner wants to estimate the average daily revenue for their shop. They take a random\n",
    "sample of 50 days and find the sample mean revenue to be 500 dollars with a standard deviation of $50.\n",
    "Estimate the population mean revenue with a 95% confidence interval."
   ]
  },
  {
   "cell_type": "markdown",
   "id": "40a54e91-85c7-40bc-86b4-1316abfb573d",
   "metadata": {},
   "source": [
    "Answer:\n",
    "To estimate the population mean revenue with a 95% confidence interval, we can use the following formula:\n",
    "\n",
    "Confidence Interval = sample mean ± margin of error\n",
    "\n",
    "where the margin of error is given by:\n",
    "\n",
    "Margin of Error = critical value * standard error\n",
    "\n",
    "The standard error is the standard deviation of the sample divided by the square root of the sample size:\n",
    "\n",
    "Standard Error = standard deviation / sqrt(sample size)\n",
    "\n",
    "Substituting the values given in the problem statement, we get:\n",
    "\n",
    "Standard Error = 50 / sqrt(50) = 7.07\n",
    "Margin of Error = 1.96 * 7.07 = 13.85\n",
    "\n",
    "Therefore, the 95% confidence interval for the population mean revenue is:\n",
    "\n",
    "500 ± 13.85, or (486.15, 513.85)\n",
    "\n",
    "We can be 95% confident that the true population mean revenue falls within this interval."
   ]
  },
  {
   "cell_type": "markdown",
   "id": "3ba411f0-407d-4a44-be6d-9eb3290ea24a",
   "metadata": {},
   "source": [
    "Q14. A researcher hypothesizes that a new drug will decrease blood pressure by 10 mmHg. They conduct a\n",
    "clinical trial with 100 patients and find that the sample mean decrease in blood pressure is 8 mmHg with a\n",
    "standard deviation of 3 mmHg. Test the hypothesis with a significance level of 0.05."
   ]
  },
  {
   "cell_type": "markdown",
   "id": "d922886f-cebf-46dd-a150-db09ff02338a",
   "metadata": {},
   "source": [
    "Answer:\n",
    "The following values are given in the question:\n",
    "\n",
    "Population Mean = 10\n",
    "Sample Size = n = 100\n",
    "Sample Mean = 8\n",
    "Standard Deviation = 3\n",
    "Significance Level = 0.05\n",
    "Confidence Interval = 0.95\n",
    "\n",
    "My null and alternate hypothesis are as follows:\n",
    "\n",
    "Null Hypothesis = H0 => Population Mean = 10\n",
    "Alternate Hypothesis = H1 => Population Mean != 10\n",
    "\n",
    "From utilizing z-table i obgtained values for z-score:\n",
    "\n",
    "z-score = ± 1.96\n",
    "\n",
    "Then I utilized the follwing z-test formula:\n",
    "image.png\n",
    "\n",
    "I got the following value:\n",
    "\n",
    "-0.66\n",
    "\n",
    "As -0.66 lies outside the region ± 1.96, that means it lies in the rejection region.\n",
    "So my final conclusion was:\n",
    "\n",
    "Reject the null hypothesis"
   ]
  },
  {
   "cell_type": "markdown",
   "id": "74969e56-6945-4722-b5da-084c21595cad",
   "metadata": {},
   "source": [
    "Q15. An electronics company produces a certain type of product with a mean weight of 5 pounds and a\n",
    "standard deviation of 0.5 pounds. A random sample of 25 products is taken, and the sample mean weight\n",
    "is found to be 4.8 pounds. Test the hypothesis that the true mean weight of the products is less than 5\n",
    "pounds with a significance level of 0.01."
   ]
  },
  {
   "cell_type": "markdown",
   "id": "09c7205c-59e9-44d4-8a47-3131e007709b",
   "metadata": {},
   "source": [
    "The following values are given in the question:\n",
    "Population Mean = 5\n",
    "Sample Size = n = 25\n",
    "Sample Mean = 4.8\n",
    "Standard Deviation = 0.5\n",
    "Significance Level = 0.01\n",
    "Confidence Interval = 0.99\n",
    "\n",
    "My null and alternate hypothesis are as follows:\n",
    "\n",
    "Null Hypothesis = H0 => Population Mean = 5\n",
    "Alternate Hypothesis = H1 => Population Mean < 5\n",
    "\n",
    "Then I utilized the follwing z-test formula:\n",
    "https://github.com/baprogramme/Data_science/blob/f374389ba2d7ecc650d158bf6ba4175ffd764f83/image.png\n",
    "\n",
    "I got the following value:\n",
    "\n",
    "-2\n",
    "\n",
    "From utilizing z-table i obgtained values for z-score of -2:\n",
    "\n",
    "z-score = 0.02275\n",
    "\n",
    "Which also becomes my p-value:\n",
    "\n",
    "p-value = 0.02275\n",
    "\n",
    "Then i checked whether p-value < significance value\n",
    "\n",
    "0.02775 < 0.01\n",
    "False\n",
    "\n",
    "So my final conclusion was:\n",
    "\n",
    "Failed to reject null hypothesis"
   ]
  },
  {
   "cell_type": "markdown",
   "id": "24faea22-d9e0-43dc-9bdc-d8d0ede0c24a",
   "metadata": {},
   "source": [
    "Q16. Two groups of students are given different study materials to prepare for a test. The first group (n1 =30) has a mean score of 80 with a standard deviation of 10, and the second group (n2 = 40) has a mean\n",
    "score of 75 with a standard deviation of 8. Test the hypothesis that the population means for the two\n",
    "groups are equal with a significance level of 0.01."
   ]
  },
  {
   "cell_type": "markdown",
   "id": "bcdb020f-c086-4eb7-89c3-5b7f7b60711e",
   "metadata": {},
   "source": [
    "Answer:\n",
    "My null and alternate hypothesis are as follows:\n",
    "\n",
    "Null Hypothesis = H0 => Population Mean of Group 1 = Population Mean of Group 2\n",
    "Alternate Hypothesis = H1 => Population Mean of Group 1 != Population Mean of Group 2\n",
    "\n",
    "Then I utilized the follwing two sample T-test formula:\n",
    "\n",
    "![https://github.com/baprogramme/Data_science/blob/f374389ba2d7ecc650d158bf6ba4175ffd764f83/image.png]\n",
    "\n",
    "I got the value of t as:\n",
    "\n",
    "t = 2.37\n",
    "\n",
    "Then I utilized t-table to look for the value of t for the following parameters:\n",
    "\n",
    "Degrees of Freedom = 68\n",
    "Significance Value = 0.01\n",
    "\n",
    "I got the following value of t fromt the table:\n",
    "\n",
    "t = ± 2.638\n",
    "\n",
    "Since 2.37 lies in the region ±2.638 so, the final conclusion was:\n",
    "\n",
    "Failed to reject null hypothesis\n",
    "Population mean for two groups are equal"
   ]
  },
  {
   "cell_type": "markdown",
   "id": "70035e66-6091-4185-ada2-0db4ad53c194",
   "metadata": {},
   "source": [
    "Q17. A marketing company wants to estimate the average number of ads watched by viewers during a TV\n",
    "program. They take a random sample of 50 viewers and find that the sample mean is 4 with a standard\n",
    "deviation of 1.5. Estimate the population mean with a 99% confidence interval."
   ]
  },
  {
   "cell_type": "markdown",
   "id": "49fd0a7c-d51e-4534-ac0e-29978f4868e4",
   "metadata": {},
   "source": [
    "Answer:\n",
    "To estimate the population mean with a 99% confidence interval, we can use the following formula:\n",
    "\n",
    "CI = X̄ ± z*(σ/√n)\n",
    "\n",
    "Where:\n",
    "\n",
    "X̄ = sample mean (4)\n",
    "z = z-score corresponding to the confidence level (99%)\n",
    "σ = population standard deviation (1.5)\n",
    "n = sample size (50)\n",
    "\n",
    "To find the z-score, we can use a standard normal distribution table. For a 99% confidence level, the z-score is\n",
    "\n",
    "z-score = 2.576.\n",
    "\n",
    "Plugging in the values, we get:\n",
    "\n",
    "CI = 4 ± 2.576*(1.5/√50)\n",
    "CI = 4 ± 0.665\n",
    "\n",
    "Therefore, the 99% confidence interval for the population mean of the number of ads watched by viewers during a TV program is (3.335, 4.665). We are 99% confident that the true population mean falls within this interval."
   ]
  },
  {
   "cell_type": "code",
   "execution_count": null,
   "id": "dda6401b-1232-4eec-b476-071f691f434c",
   "metadata": {},
   "outputs": [],
   "source": []
  }
 ],
 "metadata": {
  "kernelspec": {
   "display_name": "Python 3 (ipykernel)",
   "language": "python",
   "name": "python3"
  },
  "language_info": {
   "codemirror_mode": {
    "name": "ipython",
    "version": 3
   },
   "file_extension": ".py",
   "mimetype": "text/x-python",
   "name": "python",
   "nbconvert_exporter": "python",
   "pygments_lexer": "ipython3",
   "version": "3.10.8"
  }
 },
 "nbformat": 4,
 "nbformat_minor": 5
}
