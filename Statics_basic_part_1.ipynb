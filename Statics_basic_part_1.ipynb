{
 "cells": [
  {
   "cell_type": "markdown",
   "id": "b7907e32-86d1-4cc3-b3e9-502fe8423f59",
   "metadata": {},
   "source": [
    "Q1. What is Statistics?"
   ]
  },
  {
   "cell_type": "markdown",
   "id": "5ba83cb6-8b91-4a31-b865-85b2579e4802",
   "metadata": {},
   "source": [
    "Statistics is the study of the collection, analysis, interpretation, presentation, and organization of data. In other words, it is a mathematical discipline to collect, summarize data"
   ]
  },
  {
   "cell_type": "markdown",
   "id": "2a39ef96-fe74-4b28-bf36-df23917b9e45",
   "metadata": {},
   "source": [
    "Q2. Define the different types of statistics and give an example of when each type might be used."
   ]
  },
  {
   "cell_type": "markdown",
   "id": "f3792312-13e2-46bf-a49f-eac23b79d739",
   "metadata": {},
   "source": [
    "There are two kinds of Statistics, which are descriptive Statistics and inferential Statistics. In descriptive Statistics, the Data or Collection Data are described in a summarized way, whereas in inferential Statistics, we make use of it in order to explain the descriptive kind. Both of them are used on a large scale."
   ]
  },
  {
   "cell_type": "markdown",
   "id": "4783f4d5-c01b-4e9e-8690-690af784600f",
   "metadata": {},
   "source": [
    "The two major areas of statistics are known as descriptive statistics, which describes the properties of sample and population data, and inferential statistics, which uses those properties to test hypotheses and draw conclusions."
   ]
  },
  {
   "cell_type": "markdown",
   "id": "f738899e-ca20-4432-8cd6-53863e87aa3d",
   "metadata": {},
   "source": [
    "Q3. What are the different types of data and how do they differ from each other? Provide an example of\n",
    "each type of data."
   ]
  },
  {
   "cell_type": "markdown",
   "id": "7edc310e-7aa2-4279-9685-9a6015282cec",
   "metadata": {},
   "source": [
    "Data can be classified as qualitative and quantitative. Qualitative data represents some characteristics or attributes. Further, they represent descriptions which we may observe that we cannot compute or calculate.\n"
   ]
  },
  {
   "cell_type": "markdown",
   "id": "ab4d3652-aaac-4078-970e-0c15d8aaee13",
   "metadata": {},
   "source": [
    "Qualitative data as Eye color, housing style, gender, hair color, religion, marital status, ethnicity, etc and Quantitative data as Economic status, customer satisfaction, education level, letter grades, etc"
   ]
  },
  {
   "cell_type": "markdown",
   "id": "53cee031-a4ef-4700-82a2-945080870b1a",
   "metadata": {},
   "source": [
    "Q4. Categorise the following datasets with respect to quantitative and qualitative data types:\n",
    "(i) Grading in exam: A+, A, B+, B, C+, C, D, E\n",
    "(ii) Colour of mangoes: yellow, green, orange, red\n",
    "(iii) Height data of a class: [178.9, 179, 179.5, 176, 177.2, 178.3, 175.8,...]\n",
    "(iv) Number of mangoes exported by a farm: [500, 600, 478, 672, ...]"
   ]
  },
  {
   "cell_type": "markdown",
   "id": "e8abeffa-d755-4b0d-a591-526e3757f41b",
   "metadata": {},
   "source": [
    "(i) Quantitative (ii) Qualitative (iii) Quantitative (iv) Quantitative"
   ]
  },
  {
   "cell_type": "markdown",
   "id": "78fb6b35-7f7e-44d0-8a15-4e27fce4160b",
   "metadata": {},
   "source": [
    "Q5. Explain the concept of levels of measurement and give an example of a variable for each level."
   ]
  },
  {
   "cell_type": "markdown",
   "id": "c73ef455-c388-4fef-b3f2-d72f23738e7c",
   "metadata": {},
   "source": [
    "There are 4 levels of measurement, which can be ranked from low to high:\n",
    "Nominal: the data can only be categorized.\n",
    "Ordinal: the data can be categorized and ranked.\n",
    "Interval: the data can be categorized and ranked, and evenly spaced.\n",
    "Ratio: the data can be categorized, ranked, evenly spaced and has a natural zero."
   ]
  },
  {
   "cell_type": "markdown",
   "id": "913430f3-5ef0-401d-acb5-740bd9460bf5",
   "metadata": {},
   "source": [
    "Q6. Why is it important to understand the level of measurement when analyzing data? Provide an\n",
    "example to illustrate your answer."
   ]
  },
  {
   "cell_type": "markdown",
   "id": "f5165fa3-e506-459c-b275-888d3293f3e7",
   "metadata": {},
   "source": [
    "It is important to understand the level of measurement of variables in research, because the level of measurement determines the type of statistical analysis that can be conducted, and, therefore, the type of conclusions that can be drawn from the research."
   ]
  },
  {
   "cell_type": "markdown",
   "id": "ef5b80d2-37be-4256-ab14-b97dda6a1b1f",
   "metadata": {},
   "source": [
    "Q7. How nominal data type is different from ordinal data type."
   ]
  },
  {
   "cell_type": "markdown",
   "id": "11f96d24-db8a-4ecb-bffc-abc50829ca26",
   "metadata": {},
   "source": [
    "Nominal data is classified without a natural order or rank, whereas ordinal data has a predetermined or natural order. On the other hand, numerical or quantitative data will always be a number that can be measured."
   ]
  },
  {
   "cell_type": "markdown",
   "id": "0f383ac8-57ad-45b9-bd91-44eaa53d537a",
   "metadata": {},
   "source": [
    "Q8. Which type of plot can be used to display data in terms of range?"
   ]
  },
  {
   "cell_type": "markdown",
   "id": "72df3a17-f8fb-49b9-adb1-efc9aedc3226",
   "metadata": {},
   "source": [
    "Histogram. If the groups depicted in a bar chart are actually continuous numeric ranges, we can push the bars together to generate a histogram. Bar lengths in histograms typically correspond to counts of data points, and their patterns demonstrate the distribution of variables in your data."
   ]
  },
  {
   "cell_type": "markdown",
   "id": "eb3d0804-7807-4965-98f0-e0cf895da3ac",
   "metadata": {},
   "source": [
    "Q9. Describe the difference between descriptive and inferential statistics. Give an example of each\n",
    "type of statistics and explain how they are used."
   ]
  },
  {
   "cell_type": "markdown",
   "id": "8db3d652-b5f4-473e-8c0b-0f90c1d92314",
   "metadata": {},
   "source": [
    "1. Descriptive Statistics: Descriptive statistics is a term given to the analysis of data that helps to describe, show and summarize data in a meaningful way. It is a simple way to describe our data. Descriptive statistics is very important to present our raw data ineffective/meaningful way using numerical calculations or graphs or tables. This type of statistics is applied to already known data. \n",
    "\n",
    "2. Inferential Statistics: In inferential statistics, predictions are made by taking any group of data in which you are interested. It can be defined as a random sample of data taken from a population to describe and make inferences about the population. Any group of data that includes all the data you are interested in is known as population. It basically allows you to make predictions by taking a small sample instead of working on the whole population."
   ]
  },
  {
   "cell_type": "markdown",
   "id": "dc8e1d64-f7e1-48a2-8d8d-d19c16991676",
   "metadata": {},
   "source": [
    "Q10. What are some common measures of central tendency and variability used in statistics? Explain\n",
    "how each measure can be used to describe a dataset."
   ]
  },
  {
   "cell_type": "code",
   "execution_count": null,
   "id": "d825bd9a-5801-44cc-9ea0-be86272e1829",
   "metadata": {},
   "outputs": [],
   "source": []
  }
 ],
 "metadata": {
  "kernelspec": {
   "display_name": "Python 3 (ipykernel)",
   "language": "python",
   "name": "python3"
  },
  "language_info": {
   "codemirror_mode": {
    "name": "ipython",
    "version": 3
   },
   "file_extension": ".py",
   "mimetype": "text/x-python",
   "name": "python",
   "nbconvert_exporter": "python",
   "pygments_lexer": "ipython3",
   "version": "3.10.8"
  }
 },
 "nbformat": 4,
 "nbformat_minor": 5
}
